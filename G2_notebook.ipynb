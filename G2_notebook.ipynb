{
  "nbformat": 4,
  "nbformat_minor": 0,
  "metadata": {
    "colab": {
      "name": "G2_notebook.ipynb",
      "provenance": [],
      "collapsed_sections": [],
      "include_colab_link": true
    },
    "kernelspec": {
      "name": "python3",
      "display_name": "Python 3"
    },
    "language_info": {
      "name": "python"
    }
  },
  "cells": [
    {
      "cell_type": "markdown",
      "metadata": {
        "id": "view-in-github",
        "colab_type": "text"
      },
      "source": [
        "<a href=\"https://colab.research.google.com/github/Feras-dev/si_harvest_ewaste_nn/blob/main/G2_notebook.ipynb\" target=\"_parent\"><img src=\"https://colab.research.google.com/assets/colab-badge.svg\" alt=\"Open In Colab\"/></a>"
      ]
    },
    {
      "cell_type": "code",
      "metadata": {
        "id": "f7ZVYcQsajD9",
        "colab": {
          "base_uri": "https://localhost:8080/",
          "height": 51
        },
        "outputId": "06911651-9ff6-4852-a338-8afcccd5a2bd"
      },
      "source": [
        "\"\"\"\n",
        "File name: G2_notebook.ipynb\n",
        "Authoers: Feras Alshehri\n",
        "          Keerthana Gopal Seenivasan\n",
        "          Adhaar Jaiswal\n",
        "Description: \n",
        "last modified: 4/30/2021\n",
        "\"\"\""
      ],
      "execution_count": 1,
      "outputs": [
        {
          "output_type": "execute_result",
          "data": {
            "application/vnd.google.colaboratory.intrinsic+json": {
              "type": "string"
            },
            "text/plain": [
              "'\\nFile name: G2_notebook.ipynb\\nAuthoers: Feras Alshehri\\n          Keerthana Gopal Seenivasan\\n          Adhaar Jaiswal\\nDescription: \\nlast modified: 4/30/2021\\n'"
            ]
          },
          "metadata": {
            "tags": []
          },
          "execution_count": 1
        }
      ]
    },
    {
      "cell_type": "markdown",
      "metadata": {
        "id": "NCu1mF7vxHkq"
      },
      "source": [
        "CSCI611 - project "
      ]
    },
    {
      "cell_type": "markdown",
      "metadata": {
        "id": "fZpJnu5axsD7"
      },
      "source": [
        "# Importing dependencies"
      ]
    },
    {
      "cell_type": "code",
      "metadata": {
        "id": "aZnIdHA3zL0Y"
      },
      "source": [
        "import os\n",
        "import zipfile\n",
        "import keras"
      ],
      "execution_count": 2,
      "outputs": []
    },
    {
      "cell_type": "markdown",
      "metadata": {
        "id": "chf2LPTGR1Z3"
      },
      "source": [
        "# Utility and Helper Functions"
      ]
    },
    {
      "cell_type": "code",
      "metadata": {
        "id": "W2S9Hu6VQOHo"
      },
      "source": [
        "def get_file(url):\n",
        "    \"\"\"\n",
        "    Fetches a zip file from the internet, and extract it locally.\n",
        "\n",
        "    @input: url: str: string containing a full link to the zip file to be fetched.\n",
        "    @ouput: True upon to successful execution. False otherwise.\n",
        "    \"\"\"\n",
        "    \n",
        "    file_name_i = url.rfind(\"/\")\n",
        "    file_name_f = len(url)\n",
        "    file_name = url[file_name_i+1:file_name_f]\n",
        "\n",
        "    print(\"Fetching {} from {}\".format(file_name, url))\n",
        "\n",
        "    try:\n",
        "        filename = os.path.join(os.getcwd(), file_name)\n",
        "        keras.utils.get_file(filename, url)\n",
        "        print(\"Done fetching!\")\n",
        "    except:\n",
        "        pass\n",
        "        print(\"ERR: Failed fetching {} from {}\".format(file_name, url))\n",
        "        return False\n",
        "\n",
        "    print(\"Extracting {}...\".format(file_name))\n",
        "\n",
        "    try:\n",
        "        with zipfile.ZipFile(file_name, \"r\") as z_fp:\n",
        "            z_fp.extractall(\"./\")\n",
        "        \n",
        "        print(\"Done extracting!\")\n",
        "    except:\n",
        "        pass\n",
        "        print(\"ERR: Failed during extraction\")\n",
        "        return False\n",
        "\n",
        "    return True\n",
        "\n",
        "\n",
        "def output_to_csv_file(data, label, filename):\n",
        "    \"\"\"\n",
        "    Write data to a csv file with a comma as a delimiter.\n",
        "    @input: data: lkist of \n",
        "            label:\n",
        "            filename: str: name of csv output file.\n",
        "    @output:\n",
        "    \"\"\"\n",
        "    for i in range(0, len(original_data)):\n",
        "        pre_process = original_data[i].reshape((28*28,1))\n",
        "        single_pic = []\n",
        "        single_pic.append(label[0][i])\n",
        "        for j in range(0,len(pre_process)):\n",
        "            temp_pix = pre_process[j][0]\n",
        "            single_pic.append(temp_pix)\n",
        "        with open(filename,\"a\") as f:\n",
        "            f_csv = csv.writer(f, delimiter=',',quotechar='|', quoting=csv.QUOTE_MINIMAL)\n",
        "            f_csv.writerow(single_pic)"
      ],
      "execution_count": 3,
      "outputs": []
    },
    {
      "cell_type": "markdown",
      "metadata": {
        "id": "pOpbyQkcD5GC"
      },
      "source": [
        "#importing Data"
      ]
    },
    {
      "cell_type": "code",
      "metadata": {
        "id": "kA5Nh2-VzLKV",
        "colab": {
          "base_uri": "https://localhost:8080/"
        },
        "outputId": "77dbe4e4-3814-415b-ad11-f061ab462882"
      },
      "source": [
        "if not (get_file(\"https://raw.github.com/Feras-dev/si_harvest_ewaste_nn/main/Dataset.zip\")):\n",
        "    exit()"
      ],
      "execution_count": 4,
      "outputs": [
        {
          "output_type": "stream",
          "text": [
            "Fetching Dataset.zip from https://raw.github.com/Feras-dev/si_harvest_ewaste_nn/main/Dataset.zip\n",
            "Done fetching!\n",
            "Extracting Dataset.zip...\n",
            "Done extracting!\n"
          ],
          "name": "stdout"
        }
      ]
    },
    {
      "cell_type": "markdown",
      "metadata": {
        "id": "Iyla6I1oD8Y9"
      },
      "source": [
        "# Data pre-processing"
      ]
    },
    {
      "cell_type": "code",
      "metadata": {
        "id": "ikz7kGb9dAeU"
      },
      "source": [
        "from tensorflow.keras.preprocessing.image import ImageDataGenerator\n",
        "from tensorflow.keras.layers import Activation, Dropout, Flatten, Dense, Conv2D, MaxPooling2D\n",
        "from tensorflow.keras.models import Sequential"
      ],
      "execution_count": 11,
      "outputs": []
    },
    {
      "cell_type": "code",
      "metadata": {
        "id": "0nMq3J79EOjg"
      },
      "source": [
        "img_width, img_height = 150, 150\n",
        "\n",
        "nb_train_samples = 3\n",
        "nb_validation_samples = 20\n",
        "epochs = 100\n",
        "batch_size = 1\n",
        "\n",
        "input_shape = (img_width,img_height,3)  "
      ],
      "execution_count": 12,
      "outputs": []
    },
    {
      "cell_type": "code",
      "metadata": {
        "id": "V4sX6S7uYckn"
      },
      "source": [
        "train_datagen = ImageDataGenerator(\n",
        "    rescale = 1. /255,\n",
        "    shear_range = 0.2,\n",
        "    zoom_range = 0.2,\n",
        "    horizontal_flip=True\n",
        ")"
      ],
      "execution_count": 13,
      "outputs": []
    },
    {
      "cell_type": "code",
      "metadata": {
        "id": "FTIA68IhdUWE"
      },
      "source": [
        "test_datagen = ImageDataGenerator(rescale=1. /255)"
      ],
      "execution_count": 14,
      "outputs": []
    },
    {
      "cell_type": "code",
      "metadata": {
        "id": "Beh3WhPPfWar"
      },
      "source": [
        "model = Sequential()\n",
        "model.add(Conv2D(32, (3,3), input_shape=input_shape))\n",
        "model.add(Activation('relu'))\n",
        "model.add(MaxPooling2D(pool_size=(2,2)))\n",
        "\n",
        "model.add(Conv2D(32,(3,3)))\n",
        "model.add(Activation('relu'))\n",
        "model.add(MaxPooling2D(pool_size=(2,2)))\n",
        "\n",
        "model.add(Conv2D(64,(3,3)))\n",
        "model.add(Activation('relu'))\n",
        "model.add(MaxPooling2D(pool_size=(2,2)))\n",
        "\n",
        "model.add(Flatten())\n",
        "model.add(Dense(64))\n",
        "model.add(Activation('relu'))\n",
        "model.add(Dropout(0.5))\n",
        "model.add(Dense(1))\n",
        "model.add(Activation('sigmoid'))"
      ],
      "execution_count": 15,
      "outputs": []
    },
    {
      "cell_type": "markdown",
      "metadata": {
        "id": "RepXV_EYEA_8"
      },
      "source": [
        "#Model initilization and creation"
      ]
    },
    {
      "cell_type": "code",
      "metadata": {
        "id": "AQ9T8iISSsZf"
      },
      "source": [
        "\"\"\"\n",
        "set up model's initialization parameters.\n",
        "\"\"\"\n",
        "classes = [\"si_posive\", \"si_negative\"]\n",
        "number_of_classes = len(classes)\n"
      ],
      "execution_count": 16,
      "outputs": []
    },
    {
      "cell_type": "code",
      "metadata": {
        "id": "kLRLTtxcPmKL"
      },
      "source": [
        ""
      ],
      "execution_count": null,
      "outputs": []
    }
  ]
}